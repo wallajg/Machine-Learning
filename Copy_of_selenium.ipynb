{
  "nbformat": 4,
  "nbformat_minor": 0,
  "metadata": {
    "colab": {
      "provenance": [],
      "include_colab_link": true
    },
    "kernelspec": {
      "name": "python3",
      "display_name": "Python 3"
    }
  },
  "cells": [
    {
      "cell_type": "markdown",
      "metadata": {
        "id": "view-in-github",
        "colab_type": "text"
      },
      "source": [
        "<a href=\"https://colab.research.google.com/github/wallajg/Machine-Learning/blob/master/Copy_of_selenium.ipynb\" target=\"_parent\"><img src=\"https://colab.research.google.com/assets/colab-badge.svg\" alt=\"Open In Colab\"/></a>"
      ]
    },
    {
      "metadata": {
        "id": "Uw14LlZLsGQM"
      },
      "cell_type": "markdown",
      "source": [
        "# Selenium\n",
        "Allow the remote contro of a browser, in this case firefox\n",
        "\n",
        "See the [Manual](https://www.seleniumhq.org/docs/03_webdriver.jsp) "
      ]
    },
    {
      "metadata": {
        "id": "7BjPnvG8RMrf",
        "colab": {
          "base_uri": "https://localhost:8080/"
        },
        "outputId": "423af0cb-5f06-48bc-f3b8-79088757fb32"
      },
      "cell_type": "code",
      "source": [
        "! apt install firefox  xvfb > /dev/null"
      ],
      "execution_count": null,
      "outputs": [
        {
          "output_type": "stream",
          "name": "stdout",
          "text": [
            "\n",
            "WARNING: apt does not have a stable CLI interface. Use with caution in scripts.\n",
            "\n"
          ]
        }
      ]
    },
    {
      "metadata": {
        "id": "zd7i562JRI91"
      },
      "cell_type": "code",
      "source": [
        "! pip3 install  pyvirtualdisplay selenium webdriver_manager  > /dev/null"
      ],
      "execution_count": null,
      "outputs": []
    },
    {
      "metadata": {
        "id": "mFHVJPcVthkI"
      },
      "cell_type": "markdown",
      "source": [
        "## Side by side mode\n",
        "The default mode is that a new browser window is open from your, in this case, Python execution enviroment. The code window is the remote control of that specific  browser window. "
      ]
    },
    {
      "metadata": {
        "id": "cgiurceTuqAz"
      },
      "cell_type": "code",
      "source": [
        "from webdriver_manager.firefox import GeckoDriverManager\n",
        "from selenium import webdriver\n",
        "    \n",
        "\n",
        "browser = webdriver.Firefox(executable_path=\n",
        "                GeckoDriverManager().install())"
      ],
      "execution_count": null,
      "outputs": []
    },
    {
      "metadata": {
        "id": "zNxrc6iW1LJa"
      },
      "cell_type": "markdown",
      "source": [
        "### Simple example"
      ]
    },
    {
      "metadata": {
        "id": "djXqQQqP1YvQ"
      },
      "cell_type": "code",
      "source": [
        "browser.get('http://fisica.udea.edu.co')\n",
        "\n",
        "browser.find_element_by_link_text('Instituto').click() "
      ],
      "execution_count": null,
      "outputs": []
    },
    {
      "metadata": {
        "id": "1sqWFwnR4Joi"
      },
      "cell_type": "markdown",
      "source": [
        "Capture the last visited page"
      ]
    },
    {
      "metadata": {
        "id": "KcZmB1Ck2ze4"
      },
      "cell_type": "code",
      "source": [
        "html=browser.page_source"
      ],
      "execution_count": null,
      "outputs": []
    },
    {
      "metadata": {
        "id": "0W28602hutzS"
      },
      "cell_type": "code",
      "source": [
        "browser.close()"
      ],
      "execution_count": null,
      "outputs": []
    },
    {
      "metadata": {
        "id": "3pcSg5I51b_y"
      },
      "cell_type": "markdown",
      "source": [
        "### Google search example"
      ]
    },
    {
      "metadata": {
        "id": "gmRMC4Dr1nGN"
      },
      "cell_type": "code",
      "source": [
        "browser.get('http://google.com')"
      ],
      "execution_count": null,
      "outputs": []
    },
    {
      "metadata": {
        "id": "f0vVcIM81uvZ"
      },
      "cell_type": "markdown",
      "source": [
        "Find the `id` element by putting the mouse pointer on the search box. "
      ]
    },
    {
      "metadata": {
        "id": "ZyDg5ivw1wTR"
      },
      "cell_type": "code",
      "source": [
        "browser.find_element_by_id('lst-ib').clear()\n",
        "browser.find_element_by_id('lst-ib').send_keys('hello world')"
      ],
      "execution_count": null,
      "outputs": []
    },
    {
      "metadata": {
        "id": "KdT_1WeQ2DQZ"
      },
      "cell_type": "markdown",
      "source": [
        "With the mouse pointer on the search button, right click and choose `Inspect` and check the button name"
      ]
    },
    {
      "metadata": {
        "id": "9Qg5sKQi2LAu"
      },
      "cell_type": "code",
      "source": [
        "browser.find_element_by_name(\"btnK\").click()"
      ],
      "execution_count": null,
      "outputs": []
    },
    {
      "metadata": {
        "id": "2Zth-sfA6z6z"
      },
      "cell_type": "code",
      "source": [
        "html=browser.page_source"
      ],
      "execution_count": null,
      "outputs": []
    },
    {
      "metadata": {
        "id": "dQajB58Fuvm-"
      },
      "cell_type": "markdown",
      "source": [
        "## Hidden mode\n",
        "A virtual display is generated where the broeser window is hidden"
      ]
    },
    {
      "metadata": {
        "id": "--i6YklVRlIK"
      },
      "cell_type": "code",
      "source": [
        "from webdriver_manager.firefox import GeckoDriverManager\n",
        "from selenium import webdriver\n",
        "from pyvirtualdisplay import Display\n",
        "\n",
        "REMOTE=True\n",
        "if REMOTE:\n",
        "    display = Display(visible=0, size=(800, 600))\n",
        "    display.start()\n",
        "    \n",
        "try:\n",
        "    browser = webdriver.Firefox(executable_path=\n",
        "                '{}/.wdm/geckodriver/v0.23.0/linux64/geckodriver'.format(home))\n",
        "except WebDriverException:\n",
        "    browser = webdriver.Firefox(executable_path=\n",
        "                GeckoDriverManager().install())\n",
        "\n",
        "if REMOTE:\n",
        "    #https://stackoverflow.com/a/17536547/2268280\n",
        "    browser.set_page_load_timeout(30)\n",
        "    \n",
        "browser.get('http://fisica.udea.edu.co')\n",
        "\n",
        "browser.find_element_by_link_text('Instituto').click() "
      ],
      "execution_count": null,
      "outputs": []
    },
    {
      "metadata": {
        "id": "6DhdXw9tr5sm"
      },
      "cell_type": "code",
      "source": [
        "browser.close()"
      ],
      "execution_count": null,
      "outputs": []
    }
  ]
}